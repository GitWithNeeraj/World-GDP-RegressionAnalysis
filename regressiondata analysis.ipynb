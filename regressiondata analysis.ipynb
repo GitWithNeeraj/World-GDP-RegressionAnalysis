{
  "cells": [
    {
      "cell_type": "code",
      "execution_count": 1,
      "metadata": {
        "colab": {
          "base_uri": "https://localhost:8080/"
        },
        "id": "fOfY-prp5dBS",
        "outputId": "ca14d0ff-7463-4c98-d50f-10305a27fb27"
      },
      "outputs": [
        {
          "name": "stdout",
          "output_type": "stream",
          "text": [
            "Looking in indexes: https://pypi.org/simple, https://us-python.pkg.dev/colab-wheels/public/simple/\n",
            "Requirement already satisfied: pandas.datareader in /usr/local/lib/python3.8/dist-packages (0.10.0)\n",
            "Requirement already satisfied: pandas>=0.23 in /usr/local/lib/python3.8/dist-packages (from pandas.datareader) (1.5.2)\n",
            "Requirement already satisfied: lxml in /usr/local/lib/python3.8/dist-packages (from pandas.datareader) (4.9.1)\n",
            "Requirement already satisfied: requests>=2.19.0 in /usr/local/lib/python3.8/dist-packages (from pandas.datareader) (2.28.1)\n",
            "Requirement already satisfied: pytz>=2020.1 in /usr/local/lib/python3.8/dist-packages (from pandas>=0.23->pandas.datareader) (2022.6)\n",
            "Requirement already satisfied: numpy>=1.20.3 in /usr/local/lib/python3.8/dist-packages (from pandas>=0.23->pandas.datareader) (1.21.6)\n",
            "Requirement already satisfied: python-dateutil>=2.8.1 in /usr/local/lib/python3.8/dist-packages (from pandas>=0.23->pandas.datareader) (2.8.2)\n",
            "Requirement already satisfied: six>=1.5 in /usr/local/lib/python3.8/dist-packages (from python-dateutil>=2.8.1->pandas>=0.23->pandas.datareader) (1.15.0)\n",
            "Requirement already satisfied: certifi>=2017.4.17 in /usr/local/lib/python3.8/dist-packages (from requests>=2.19.0->pandas.datareader) (2022.9.24)\n",
            "Requirement already satisfied: urllib3<1.27,>=1.21.1 in /usr/local/lib/python3.8/dist-packages (from requests>=2.19.0->pandas.datareader) (1.24.3)\n",
            "Requirement already satisfied: idna<4,>=2.5 in /usr/local/lib/python3.8/dist-packages (from requests>=2.19.0->pandas.datareader) (2.10)\n",
            "Requirement already satisfied: charset-normalizer<3,>=2 in /usr/local/lib/python3.8/dist-packages (from requests>=2.19.0->pandas.datareader) (2.1.1)\n"
          ]
        }
      ],
      "source": [
        "!pip install pandas.datareader"
      ]
    },
    {
      "cell_type": "code",
      "execution_count": 2,
      "metadata": {
        "colab": {
          "base_uri": "https://localhost:8080/"
        },
        "id": "51UL3oBq6RcA",
        "outputId": "4b3bc9d5-9f31-4646-a5d0-8c3679e9e53f"
      },
      "outputs": [
        {
          "name": "stdout",
          "output_type": "stream",
          "text": [
            "Looking in indexes: https://pypi.org/simple, https://us-python.pkg.dev/colab-wheels/public/simple/\n",
            "Requirement already satisfied: pandas in /usr/local/lib/python3.8/dist-packages (1.5.2)\n",
            "Requirement already satisfied: python-dateutil>=2.8.1 in /usr/local/lib/python3.8/dist-packages (from pandas) (2.8.2)\n",
            "Requirement already satisfied: pytz>=2020.1 in /usr/local/lib/python3.8/dist-packages (from pandas) (2022.6)\n",
            "Requirement already satisfied: numpy>=1.20.3 in /usr/local/lib/python3.8/dist-packages (from pandas) (1.21.6)\n",
            "Requirement already satisfied: six>=1.5 in /usr/local/lib/python3.8/dist-packages (from python-dateutil>=2.8.1->pandas) (1.15.0)\n"
          ]
        }
      ],
      "source": [
        "pip install --upgrade pandas"
      ]
    },
    {
      "cell_type": "code",
      "execution_count": 3,
      "metadata": {
        "colab": {
          "base_uri": "https://localhost:8080/"
        },
        "id": "LJCCVhUf6U6Y",
        "outputId": "b226c587-7339-48f2-f05c-372f2cb950df"
      },
      "outputs": [
        {
          "name": "stdout",
          "output_type": "stream",
          "text": [
            "Looking in indexes: https://pypi.org/simple, https://us-python.pkg.dev/colab-wheels/public/simple/\n",
            "Requirement already satisfied: pandas-datareader in /usr/local/lib/python3.8/dist-packages (0.10.0)\n",
            "Requirement already satisfied: pandas>=0.23 in /usr/local/lib/python3.8/dist-packages (from pandas-datareader) (1.5.2)\n",
            "Requirement already satisfied: lxml in /usr/local/lib/python3.8/dist-packages (from pandas-datareader) (4.9.1)\n",
            "Requirement already satisfied: requests>=2.19.0 in /usr/local/lib/python3.8/dist-packages (from pandas-datareader) (2.28.1)\n",
            "Requirement already satisfied: python-dateutil>=2.8.1 in /usr/local/lib/python3.8/dist-packages (from pandas>=0.23->pandas-datareader) (2.8.2)\n",
            "Requirement already satisfied: pytz>=2020.1 in /usr/local/lib/python3.8/dist-packages (from pandas>=0.23->pandas-datareader) (2022.6)\n",
            "Requirement already satisfied: numpy>=1.20.3 in /usr/local/lib/python3.8/dist-packages (from pandas>=0.23->pandas-datareader) (1.21.6)\n",
            "Requirement already satisfied: six>=1.5 in /usr/local/lib/python3.8/dist-packages (from python-dateutil>=2.8.1->pandas>=0.23->pandas-datareader) (1.15.0)\n",
            "Requirement already satisfied: charset-normalizer<3,>=2 in /usr/local/lib/python3.8/dist-packages (from requests>=2.19.0->pandas-datareader) (2.1.1)\n",
            "Requirement already satisfied: idna<4,>=2.5 in /usr/local/lib/python3.8/dist-packages (from requests>=2.19.0->pandas-datareader) (2.10)\n",
            "Requirement already satisfied: certifi>=2017.4.17 in /usr/local/lib/python3.8/dist-packages (from requests>=2.19.0->pandas-datareader) (2022.9.24)\n",
            "Requirement already satisfied: urllib3<1.27,>=1.21.1 in /usr/local/lib/python3.8/dist-packages (from requests>=2.19.0->pandas-datareader) (1.24.3)\n"
          ]
        }
      ],
      "source": [
        "pip install --upgrade pandas-datareader"
      ]
    },
    {
      "cell_type": "code",
      "execution_count": 4,
      "metadata": {
        "colab": {
          "base_uri": "https://localhost:8080/"
        },
        "id": "gLx6d2_SO_Fg",
        "outputId": "725522f5-38a1-478d-deed-d988c4a5a261"
      },
      "outputs": [
        {
          "name": "stdout",
          "output_type": "stream",
          "text": [
            "Looking in indexes: https://pypi.org/simple, https://us-python.pkg.dev/colab-wheels/public/simple/\n",
            "Requirement already satisfied: yfinance in /usr/local/lib/python3.8/dist-packages (0.1.90)\n",
            "Requirement already satisfied: multitasking>=0.0.7 in /usr/local/lib/python3.8/dist-packages (from yfinance) (0.0.11)\n",
            "Requirement already satisfied: numpy>=1.16.5 in /usr/local/lib/python3.8/dist-packages (from yfinance) (1.21.6)\n",
            "Requirement already satisfied: appdirs>=1.4.4 in /usr/local/lib/python3.8/dist-packages (from yfinance) (1.4.4)\n",
            "Requirement already satisfied: requests>=2.26 in /usr/local/lib/python3.8/dist-packages (from yfinance) (2.28.1)\n",
            "Requirement already satisfied: pandas>=1.3.0 in /usr/local/lib/python3.8/dist-packages (from yfinance) (1.5.2)\n",
            "Requirement already satisfied: lxml>=4.9.1 in /usr/local/lib/python3.8/dist-packages (from yfinance) (4.9.1)\n",
            "Requirement already satisfied: pytz>=2020.1 in /usr/local/lib/python3.8/dist-packages (from pandas>=1.3.0->yfinance) (2022.6)\n",
            "Requirement already satisfied: python-dateutil>=2.8.1 in /usr/local/lib/python3.8/dist-packages (from pandas>=1.3.0->yfinance) (2.8.2)\n",
            "Requirement already satisfied: six>=1.5 in /usr/local/lib/python3.8/dist-packages (from python-dateutil>=2.8.1->pandas>=1.3.0->yfinance) (1.15.0)\n",
            "Requirement already satisfied: idna<4,>=2.5 in /usr/local/lib/python3.8/dist-packages (from requests>=2.26->yfinance) (2.10)\n",
            "Requirement already satisfied: charset-normalizer<3,>=2 in /usr/local/lib/python3.8/dist-packages (from requests>=2.26->yfinance) (2.1.1)\n",
            "Requirement already satisfied: urllib3<1.27,>=1.21.1 in /usr/local/lib/python3.8/dist-packages (from requests>=2.26->yfinance) (1.24.3)\n",
            "Requirement already satisfied: certifi>=2017.4.17 in /usr/local/lib/python3.8/dist-packages (from requests>=2.26->yfinance) (2022.9.24)\n"
          ]
        }
      ],
      "source": [
        "!pip install yfinance"
      ]
    },
    {
      "cell_type": "code",
      "execution_count": 34,
      "metadata": {
        "id": "OBtibytUOvhz"
      },
      "outputs": [],
      "source": [
        "#importing libraries\n",
        "from pandas_datareader import wb\n",
        "import matplotlib.pyplot as plt\n",
        "import numpy as np\n",
        "import math\n",
        "import pandas as pd"
      ]
    },
    {
      "cell_type": "markdown",
      "metadata": {
        "id": "EoBQzbGqPITD"
      },
      "source": [
        "We now download and plot the entire world GDP time series."
      ]
    },
    {
      "cell_type": "code",
      "execution_count": 35,
      "metadata": {
        "colab": {
          "base_uri": "https://localhost:8080/",
          "height": 311
        },
        "id": "FuCybEuAPJyD",
        "outputId": "175efdc9-099d-4f45-ae1d-aacda09fbd6a"
      },
      "outputs": [
        {
          "name": "stderr",
          "output_type": "stream",
          "text": [
            "/usr/local/lib/python3.8/dist-packages/pandas_datareader/wb.py:592: UserWarning: Non-standard ISO country codes: WLD\n",
            "  warnings.warn(\n"
          ]
        },
        {
          "data": {
            "image/png": "[encoded data removed]",
            "text/plain": [
              "<Figure size 432x288 with 1 Axes>"
            ]
          },
          "metadata": {
            "needs_background": "light"
          },
          "output_type": "display_data"
        }
      ],
      "source": [
        "gdp_data = wb.download (indicator='NY.GDP.MKTP.CD', country='WLD',\n",
        "start='1960', end='2021')\n",
        "time = np.arange(1960,2022)\n",
        "gdp = gdp_data.iloc[:,0].astype(float).to_numpy()\n",
        "gdp = np.flip(gdp)\n",
        "\n",
        "plt.plot(time, gdp, label='US GDP')\n",
        "plt.legend()\n",
        "plt.show()"
      ]
    },
    {
      "cell_type": "markdown",
      "metadata": {
        "id": "G1xqpKjmqYWi"
      },
      "source": [
        "**Question 1**"
      ]
    },
    {
      "cell_type": "markdown",
      "metadata": {
        "id": "zGWHrOt5Puh4"
      },
      "source": [
        "If the growth rate was a constant r, then the world's GDP would grow as, $GDP_{k} = GDP_{0}(1+r)^k$. This equation is not linear. To get a linear relationship, we take natural logarithm on both sides."
      ]
    },
    {
      "cell_type": "code",
      "execution_count": 36,
      "metadata": {
        "id": "YZcVHpA3Qtzx"
      },
      "outputs": [],
      "source": [
        "#we apply the logarithm transformation to the GDP equation\n",
        "gdp_transforrmed_list = [math.log(i) for i in gdp]\n",
        "gdp_transformed_array = np.array(gdp_transforrmed_list)"
      ]
    },
    {
      "cell_type": "markdown",
      "metadata": {
        "id": "6AmiTpz5TF9c"
      },
      "source": [
        "We now create a dataframe from the numpy array."
      ]
    },
    {
      "cell_type": "code",
      "execution_count": 37,
      "metadata": {
        "colab": {
          "base_uri": "https://localhost:8080/",
          "height": 424
        },
        "id": "tdJkA5TATMb4",
        "outputId": "ad7a7cd2-3570-4f5d-dafb-2e94a42af82c"
      },
      "outputs": [
        {
          "data": {
            "text/html": [
              "\n",
              "  <div id=\"df-caca160c-e046-4e2b-8232-7a58d0a24744\">\n",
              "    <div class=\"colab-df-container\">\n",
              "      <div>\n",
              "<style scoped>\n",
              "    .dataframe tbody tr th:only-of-type {\n",
              "        vertical-align: middle;\n",
              "    }\n",
              "\n",
              "    .dataframe tbody tr th {\n",
              "        vertical-align: top;\n",
              "    }\n",
              "\n",
              "    .dataframe thead th {\n",
              "        text-align: right;\n",
              "    }\n",
              "</style>\n",
              "<table border=\"1\" class=\"dataframe\">\n",
              "  <thead>\n",
              "    <tr style=\"text-align: right;\">\n",
              "      <th></th>\n",
              "      <th>GDP_Transformed</th>\n",
              "      <th>Time_Length</th>\n",
              "    </tr>\n",
              "  </thead>\n",
              "  <tbody>\n",
              "    <tr>\n",
              "      <th>0</th>\n",
              "      <td>27.961801</td>\n",
              "      <td>0</td>\n",
              "    </tr>\n",
              "    <tr>\n",
              "      <th>1</th>\n",
              "      <td>28.001476</td>\n",
              "      <td>1</td>\n",
              "    </tr>\n",
              "    <tr>\n",
              "      <th>2</th>\n",
              "      <td>28.069469</td>\n",
              "      <td>2</td>\n",
              "    </tr>\n",
              "    <tr>\n",
              "      <th>3</th>\n",
              "      <td>28.144651</td>\n",
              "      <td>3</td>\n",
              "    </tr>\n",
              "    <tr>\n",
              "      <th>4</th>\n",
              "      <td>28.235336</td>\n",
              "      <td>4</td>\n",
              "    </tr>\n",
              "    <tr>\n",
              "      <th>...</th>\n",
              "      <td>...</td>\n",
              "      <td>...</td>\n",
              "    </tr>\n",
              "    <tr>\n",
              "      <th>57</th>\n",
              "      <td>32.030445</td>\n",
              "      <td>57</td>\n",
              "    </tr>\n",
              "    <tr>\n",
              "      <th>58</th>\n",
              "      <td>32.090160</td>\n",
              "      <td>58</td>\n",
              "    </tr>\n",
              "    <tr>\n",
              "      <th>59</th>\n",
              "      <td>32.104405</td>\n",
              "      <td>59</td>\n",
              "    </tr>\n",
              "    <tr>\n",
              "      <th>60</th>\n",
              "      <td>32.072575</td>\n",
              "      <td>60</td>\n",
              "    </tr>\n",
              "    <tr>\n",
              "      <th>61</th>\n",
              "      <td>32.196411</td>\n",
              "      <td>61</td>\n",
              "    </tr>\n",
              "  </tbody>\n",
              "</table>\n",
              "<p>62 rows × 2 columns</p>\n",
              "</div>\n",
              "      <button class=\"colab-df-convert\" onclick=\"convertToInteractive('df-caca160c-e046-4e2b-8232-7a58d0a24744')\"\n",
              "              title=\"Convert this dataframe to an interactive table.\"\n",
              "              style=\"display:none;\">\n",
              "        \n",
              "  <svg xmlns=\"http://www.w3.org/2000/svg\" height=\"24px\"viewBox=\"0 0 24 24\"\n",
              "       width=\"24px\">\n",
              "    <path d=\"M0 0h24v24H0V0z\" fill=\"none\"/>\n",
              "    <path d=\"M18.56 5.44l.94 2.06.94-2.06 2.06-.94-2.06-.94-.94-2.06-.94 2.06-2.06.94zm-11 1L8.5 8.5l.94-2.06 2.06-.94-2.06-.94L8.5 2.5l-.94 2.06-2.06.94zm10 10l.94 2.06.94-2.06 2.06-.94-2.06-.94-.94-2.06-.94 2.06-2.06.94z\"/><path d=\"M17.41 7.96l-1.37-1.37c-.4-.4-.92-.59-1.43-.59-.52 0-1.04.2-1.43.59L10.3 9.45l-7.72 7.72c-.78.78-.78 2.05 0 2.83L4 21.41c.39.39.9.59 1.41.59.51 0 1.02-.2 1.41-.59l7.78-7.78 2.81-2.81c.8-.78.8-2.07 0-2.86zM5.41 20L4 18.59l7.72-7.72 1.47 1.35L5.41 20z\"/>\n",
              "  </svg>\n",
              "      </button>\n",
              "      \n",
              "  <style>\n",
              "    .colab-df-container {\n",
              "      display:flex;\n",
              "      flex-wrap:wrap;\n",
              "      gap: 12px;\n",
              "    }\n",
              "\n",
              "    .colab-df-convert {\n",
              "      background-color: #E8F0FE;\n",
              "      border: none;\n",
              "      border-radius: 50%;\n",
              "      cursor: pointer;\n",
              "      display: none;\n",
              "      fill: #1967D2;\n",
              "      height: 32px;\n",
              "      padding: 0 0 0 0;\n",
              "      width: 32px;\n",
              "    }\n",
              "\n",
              "    .colab-df-convert:hover {\n",
              "      background-color: #E2EBFA;\n",
              "      box-shadow: 0px 1px 2px rgba(60, 64, 67, 0.3), 0px 1px 3px 1px rgba(60, 64, 67, 0.15);\n",
              "      fill: #174EA6;\n",
              "    }\n",
              "\n",
              "    [theme=dark] .colab-df-convert {\n",
              "      background-color: #3B4455;\n",
              "      fill: #D2E3FC;\n",
              "    }\n",
              "\n",
              "    [theme=dark] .colab-df-convert:hover {\n",
              "      background-color: #434B5C;\n",
              "      box-shadow: 0px 1px 3px 1px rgba(0, 0, 0, 0.15);\n",
              "      filter: drop-shadow(0px 1px 2px rgba(0, 0, 0, 0.3));\n",
              "      fill: #FFFFFF;\n",
              "    }\n",
              "  </style>\n",
              "\n",
              "      <script>\n",
              "        const buttonEl =\n",
              "          document.querySelector('#df-caca160c-e046-4e2b-8232-7a58d0a24744 button.colab-df-convert');\n",
              "        buttonEl.style.display =\n",
              "          google.colab.kernel.accessAllowed ? 'block' : 'none';\n",
              "\n",
              "        async function convertToInteractive(key) {\n",
              "          const element = document.querySelector('#df-caca160c-e046-4e2b-8232-7a58d0a24744');\n",
              "          const dataTable =\n",
              "            await google.colab.kernel.invokeFunction('convertToInteractive',\n",
              "                                                     [key], {});\n",
              "          if (!dataTable) return;\n",
              "\n",
              "          const docLinkHtml = 'Like what you see? Visit the ' +\n",
              "            '<a target=\"_blank\" href=https://colab.research.google.com/notebooks/data_table.ipynb>data table notebook</a>'\n",
              "            + ' to learn more about interactive tables.';\n",
              "          element.innerHTML = '';\n",
              "          dataTable['output_type'] = 'display_data';\n",
              "          await google.colab.output.renderOutput(dataTable, element);\n",
              "          const docLink = document.createElement('div');\n",
              "          docLink.innerHTML = docLinkHtml;\n",
              "          element.appendChild(docLink);\n",
              "        }\n",
              "      </script>\n",
              "    </div>\n",
              "  </div>\n",
              "  "
            ],
            "text/plain": [
              "    GDP_Transformed  Time_Length\n",
              "0         27.961801            0\n",
              "1         28.001476            1\n",
              "2         28.069469            2\n",
              "3         28.144651            3\n",
              "4         28.235336            4\n",
              "..              ...          ...\n",
              "57        32.030445           57\n",
              "58        32.090160           58\n",
              "59        32.104405           59\n",
              "60        32.072575           60\n",
              "61        32.196411           61\n",
              "\n",
              "[62 rows x 2 columns]"
            ]
          },
          "execution_count": 37,
          "metadata": {},
          "output_type": "execute_result"
        }
      ],
      "source": [
        "time_length = np.arange(0,len(time))\n",
        "gdp_dataframe = pd.DataFrame(gdp_transformed_array)\n",
        "gdp_dataframe.rename(columns = {0:'GDP_Transformed'}, inplace = True)\n",
        "gdp_dataframe['Time_Length'] = time_length\n",
        "gdp_dataframe"
      ]
    },
    {
      "cell_type": "code",
      "execution_count": 38,
      "metadata": {
        "colab": {
          "base_uri": "https://localhost:8080/"
        },
        "id": "nR3xa1asYssp",
        "outputId": "abded0a8-4cdc-4e30-bcd0-2830397fae92"
      },
      "outputs": [
        {
          "name": "stdout",
          "output_type": "stream",
          "text": [
            "The linear model is: Y = 28.255 + 0.071541X\n"
          ]
        }
      ],
      "source": [
        "#regression against time variable\n",
        "from sklearn.linear_model import LinearRegression\n",
        "from sklearn.metrics import r2_score\n",
        "import statsmodels.api as sm\n",
        "\n",
        "X = gdp_dataframe['Time_Length'].values.reshape(-1,1)\n",
        "y = gdp_dataframe['GDP_Transformed'].values.reshape(-1,1)\n",
        "reg = LinearRegression()\n",
        "reg.fit(X, y)\n",
        "print(\"The linear model is: Y = {:.5} + {:.5}X\".format(reg.intercept_[0], reg.coef_[0][0]))"
      ]
    },
    {
      "cell_type": "code",
      "execution_count": 39,
      "metadata": {
        "colab": {
          "base_uri": "https://localhost:8080/"
        },
        "id": "mIgCQS8mch89",
        "outputId": "674fb37a-66ac-44f9-de6c-b6d9cf03f783"
      },
      "outputs": [
        {
          "name": "stdout",
          "output_type": "stream",
          "text": [
            "                            OLS Regression Results                            \n",
            "==============================================================================\n",
            "Dep. Variable:                      y   R-squared:                       0.966\n",
            "Model:                            OLS   Adj. R-squared:                  0.965\n",
            "Method:                 Least Squares   F-statistic:                     1692.\n",
            "Date:                Thu, 15 Dec 2022   Prob (F-statistic):           1.14e-45\n",
            "Time:                        08:37:41   Log-Likelihood:                0.23096\n",
            "No. Observations:                  62   AIC:                             3.538\n",
            "Df Residuals:                      60   BIC:                             7.792\n",
            "Df Model:                           1                                         \n",
            "Covariance Type:            nonrobust                                         \n",
            "==============================================================================\n",
            "                 coef    std err          t      P>|t|      [0.025      0.975]\n",
            "------------------------------------------------------------------------------\n",
            "const         28.2554      0.061    459.446      0.000      28.132      28.378\n",
            "x1             0.0715      0.002     41.137      0.000       0.068       0.075\n",
            "==============================================================================\n",
            "Omnibus:                       19.421   Durbin-Watson:                   0.049\n",
            "Prob(Omnibus):                  0.000   Jarque-Bera (JB):                4.245\n",
            "Skew:                          -0.167   Prob(JB):                        0.120\n",
            "Kurtosis:                       1.763   Cond. No.                         69.9\n",
            "==============================================================================\n",
            "\n",
            "Notes:\n",
            "[1] Standard Errors assume that the covariance matrix of the errors is correctly specified.\n"
          ]
        }
      ],
      "source": [
        "#printing regression results\n",
        "X1 = gdp_dataframe['Time_Length']\n",
        "Y1 = gdp_dataframe['GDP_Transformed']\n",
        "X2 = sm.add_constant(X)\n",
        "est = sm.OLS(y, X2)\n",
        "est2 = est.fit()\n",
        "print(est2.summary())"
      ]
    },
    {
      "cell_type": "code",
      "execution_count": 40,
      "metadata": {
        "colab": {
          "base_uri": "https://localhost:8080/",
          "height": 513
        },
        "id": "kD-2rr2mboIY",
        "outputId": "b5808214-2ef0-4b95-9095-a6efb1a295ba"
      },
      "outputs": [
        {
          "data": {
            "image/png": "[encoded data removed]",
            "text/plain": [
              "<Figure size 864x576 with 1 Axes>"
            ]
          },
          "metadata": {
            "needs_background": "light"
          },
          "output_type": "display_data"
        }
      ],
      "source": [
        "predictions = reg.predict(X)\n",
        "plt.figure(figsize=(12, 8))\n",
        "#scatter plot of gdp data after transformation\n",
        "plt.scatter(\n",
        "    time,\n",
        "    gdp_dataframe['GDP_Transformed'],\n",
        "    c='red'\n",
        ")\n",
        "#regression line\n",
        "plt.plot(\n",
        "    time,\n",
        "    predictions,\n",
        "    c='blue',\n",
        "    linewidth=2\n",
        ")\n",
        "#printing r square value\n",
        "plt.title('R2: ' + str(\"r-squared = {:.3f}\".format(r2_score(gdp_dataframe['GDP_Transformed'], predictions))))\n",
        "plt.xlabel(\"Time\")\n",
        "plt.ylabel(\"GDP\")\n",
        "plt.show()"
      ]
    },
    {
      "cell_type": "code",
      "execution_count": 41,
      "metadata": {
        "id": "qO3z6t-qeOjV"
      },
      "outputs": [],
      "source": [
        "#computing residuals\n",
        "residuals = np.array(gdp_transforrmed_list) - np.array(predictions).flatten()"
      ]
    },
    {
      "cell_type": "code",
      "execution_count": 42,
      "metadata": {
        "colab": {
          "base_uri": "https://localhost:8080/"
        },
        "id": "CBCDYeheedGp",
        "outputId": "74126d58-a1b7-42b8-c0c4-5654b277605a"
      },
      "outputs": [
        {
          "name": "stdout",
          "output_type": "stream",
          "text": [
            "1.203338504109847e-15\n",
            "0.24107101576840845\n"
          ]
        }
      ],
      "source": [
        "#printing mean and standard deviation of residuals\n",
        "print(np.mean(residuals))\n",
        "print(np.std(residuals))"
      ]
    },
    {
      "cell_type": "code",
      "execution_count": 43,
      "metadata": {
        "colab": {
          "base_uri": "https://localhost:8080/"
        },
        "id": "bdEj_LrQjBaN",
        "outputId": "3abb7184-f775-4ea9-973d-9e2a173d020d"
      },
      "outputs": [
        {
          "data": {
            "text/plain": [
              "KstestResult(statistic=0.35468938736637456, pvalue=1.7472707766374504e-07)"
            ]
          },
          "execution_count": 43,
          "metadata": {},
          "output_type": "execute_result"
        }
      ],
      "source": [
        "#k-s test\n",
        "from scipy.stats import kstest\n",
        "from scipy.stats import norm\n",
        "\n",
        "kstest(residuals,'norm')"
      ]
    },
    {
      "cell_type": "markdown",
      "metadata": {
        "id": "iqZFRiTVpoTs"
      },
      "source": [
        "Since $\\alpha = 0.99$, the significance value is $ 1-0.99=0.01$. The p-value we got is less than 0.01. So, we can reject the null hypothesis that that the residuals are sampled from a normal distribution."
      ]
    },
    {
      "cell_type": "markdown",
      "metadata": {
        "id": "QonZC_u0q2wv"
      },
      "source": [
        "The inverse transformation of logarithm is exponent. So, we apply the exponent operation to our linear model."
      ]
    },
    {
      "cell_type": "code",
      "execution_count": 44,
      "metadata": {
        "colab": {
          "base_uri": "https://localhost:8080/",
          "height": 385
        },
        "id": "EAfKSE1wrVKW",
        "outputId": "c9e781c1-79a6-460b-93cc-64f9ea9b76e7"
      },
      "outputs": [
        {
          "data": {
            "image/png": "[encoded data removed]",
            "text/plain": [
              "<Figure size 720x432 with 1 Axes>"
            ]
          },
          "metadata": {
            "needs_background": "light"
          },
          "output_type": "display_data"
        }
      ],
      "source": [
        "#scatterplot of original data points\n",
        "plt.figure(figsize=(10, 6))\n",
        "plt.scatter(time, gdp)\n",
        "#non-linear model\n",
        "plt.plot(time, np.exp(predictions), color='red')\n",
        "plt.show()"
      ]
    },
    {
      "cell_type": "markdown",
      "metadata": {
        "id": "BayqFCWEtZNk"
      },
      "source": [
        "The relationship between slope and growth rate is, <br>\n",
        "<center>$\\large ln(1+r) = slope$ <br></center>\n",
        "\n",
        "Applying exponent operation on both sides,\n",
        "<center>$\\large 1+r = e^{slope}$ <br></center>\n",
        "\n",
        "Therefore,\n",
        "<center>$\\large r = e^{slope}-1$ <br></center>"
      ]
    },
    {
      "cell_type": "code",
      "execution_count": 45,
      "metadata": {
        "colab": {
          "base_uri": "https://localhost:8080/"
        },
        "id": "tcQHtkF7t70v",
        "outputId": "9c72d96d-923a-4270-d923-0ae6d1c84e79"
      },
      "outputs": [
        {
          "name": "stdout",
          "output_type": "stream",
          "text": [
            "[0.07416175]\n"
          ]
        }
      ],
      "source": [
        "#print growth rate from the formula derived\n",
        "slope, _ = np.polyfit(time_length, predictions, 1)\n",
        "growth_rate = np.exp(slope)-1\n",
        "print(growth_rate)"
      ]
    },
    {
      "cell_type": "markdown",
      "metadata": {
        "id": "B8IkWyXuwE_d"
      },
      "source": [
        "From 2015, the prediction of our model does not match with the actual gdp. Because, according to the our model, the rate of increase is greater than the actual increase in gdp data. Intuitively this makes sense as we would not expect gdp to increase at such a rapid rate."
      ]
    }
  ],
  "metadata": {
    "colab": {
      "provenance": []
    },
    "kernelspec": {
      "display_name": "Python 3",
      "name": "python3"
    },
    "language_info": {
      "name": "python"
    }
  },
  "nbformat": 4,
  "nbformat_minor": 0
}
